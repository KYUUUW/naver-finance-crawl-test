{
 "nbformat": 4,
 "nbformat_minor": 2,
 "metadata": {
  "language_info": {
   "name": "python",
   "codemirror_mode": {
    "name": "ipython",
    "version": 3
   },
   "version": "3.7.3-final"
  },
  "orig_nbformat": 2,
  "file_extension": ".py",
  "mimetype": "text/x-python",
  "name": "python",
  "npconvert_exporter": "python",
  "pygments_lexer": "ipython3",
  "version": 3,
  "kernelspec": {
   "name": "c275815a-e8a8-41d2-bf9e-c7e3d1eab455",
   "display_name": "'Python Interactive'"
  }
 },
 "cells": [
  {
   "cell_type": "code",
   "execution_count": 3,
   "metadata": {},
   "outputs": [
    {
     "output_type": "stream",
     "name": "stdout",
     "text": "WARNING: pip is being invoked by an old script wrapper. This will fail in a future version of pip.\nPlease see https://github.com/pypa/pip/issues/5599 for advice on fixing the underlying issue.\nTo avoid this problem you can invoke Python with '-m pip' instead of running pip directly.\npandas             0.25.3    \n"
    }
   ],
   "source": [
    "!pip3 list | grep pandas"
   ]
  },
  {
   "cell_type": "code",
   "execution_count": 5,
   "metadata": {},
   "outputs": [],
   "source": [
    "import pandas as pd"
   ]
  },
  {
   "cell_type": "code",
   "execution_count": 6,
   "metadata": {},
   "outputs": [
    {
     "output_type": "execute_result",
     "data": {
      "text/plain": "    name  age        job\n0   John   20    student\n1  Jenny   30  developer\n2   Nate   30    teacher\n3  Julia   40    dentist\n4  Brian   45    manager\n5  Chris   25     intern",
      "text/html": "<div>\n<style scoped>\n    .dataframe tbody tr th:only-of-type {\n        vertical-align: middle;\n    }\n\n    .dataframe tbody tr th {\n        vertical-align: top;\n    }\n\n    .dataframe thead th {\n        text-align: right;\n    }\n</style>\n<table border=\"1\" class=\"dataframe\">\n  <thead>\n    <tr style=\"text-align: right;\">\n      <th></th>\n      <th>name</th>\n      <th>age</th>\n      <th>job</th>\n    </tr>\n  </thead>\n  <tbody>\n    <tr>\n      <th>0</th>\n      <td>John</td>\n      <td>20</td>\n      <td>student</td>\n    </tr>\n    <tr>\n      <th>1</th>\n      <td>Jenny</td>\n      <td>30</td>\n      <td>developer</td>\n    </tr>\n    <tr>\n      <th>2</th>\n      <td>Nate</td>\n      <td>30</td>\n      <td>teacher</td>\n    </tr>\n    <tr>\n      <th>3</th>\n      <td>Julia</td>\n      <td>40</td>\n      <td>dentist</td>\n    </tr>\n    <tr>\n      <th>4</th>\n      <td>Brian</td>\n      <td>45</td>\n      <td>manager</td>\n    </tr>\n    <tr>\n      <th>5</th>\n      <td>Chris</td>\n      <td>25</td>\n      <td>intern</td>\n    </tr>\n  </tbody>\n</table>\n</div>"
     },
     "metadata": {},
     "execution_count": 6
    }
   ],
   "source": [
    "# load data\n",
    "df = pd.read_csv('data/friend_list.csv')\n",
    "df"
   ]
  },
  {
   "cell_type": "code",
   "execution_count": 10,
   "metadata": {},
   "outputs": [
    {
     "output_type": "execute_result",
     "data": {
      "text/plain": "    name  age        job\n0   John   20    student\n1  Jenny   30  developer\n2   Nate   30    teacher\n3  Julia   40    dentist\n4  Brian   45    manager\n5  Chris   25     intern",
      "text/html": "<div>\n<style scoped>\n    .dataframe tbody tr th:only-of-type {\n        vertical-align: middle;\n    }\n\n    .dataframe tbody tr th {\n        vertical-align: top;\n    }\n\n    .dataframe thead th {\n        text-align: right;\n    }\n</style>\n<table border=\"1\" class=\"dataframe\">\n  <thead>\n    <tr style=\"text-align: right;\">\n      <th></th>\n      <th>name</th>\n      <th>age</th>\n      <th>job</th>\n    </tr>\n  </thead>\n  <tbody>\n    <tr>\n      <th>0</th>\n      <td>John</td>\n      <td>20</td>\n      <td>student</td>\n    </tr>\n    <tr>\n      <th>1</th>\n      <td>Jenny</td>\n      <td>30</td>\n      <td>developer</td>\n    </tr>\n    <tr>\n      <th>2</th>\n      <td>Nate</td>\n      <td>30</td>\n      <td>teacher</td>\n    </tr>\n    <tr>\n      <th>3</th>\n      <td>Julia</td>\n      <td>40</td>\n      <td>dentist</td>\n    </tr>\n    <tr>\n      <th>4</th>\n      <td>Brian</td>\n      <td>45</td>\n      <td>manager</td>\n    </tr>\n    <tr>\n      <th>5</th>\n      <td>Chris</td>\n      <td>25</td>\n      <td>intern</td>\n    </tr>\n  </tbody>\n</table>\n</div>"
     },
     "metadata": {},
     "execution_count": 10
    }
   ],
   "source": [
    "# data seperated with tab\n",
    "df = pd.read_csv('data/friend_list_tab.txt', '\\t')\n",
    "df"
   ]
  },
  {
   "cell_type": "code",
   "execution_count": 12,
   "metadata": {},
   "outputs": [
    {
     "output_type": "execute_result",
     "data": {
      "text/plain": "       0   1          2\n0   John  20    student\n1  Jenny  30  developer\n2   Nate  30    teacher\n3  Julia  40    dentist\n4  Brian  45    manager\n5  Chris  25     intern",
      "text/html": "<div>\n<style scoped>\n    .dataframe tbody tr th:only-of-type {\n        vertical-align: middle;\n    }\n\n    .dataframe tbody tr th {\n        vertical-align: top;\n    }\n\n    .dataframe thead th {\n        text-align: right;\n    }\n</style>\n<table border=\"1\" class=\"dataframe\">\n  <thead>\n    <tr style=\"text-align: right;\">\n      <th></th>\n      <th>0</th>\n      <th>1</th>\n      <th>2</th>\n    </tr>\n  </thead>\n  <tbody>\n    <tr>\n      <th>0</th>\n      <td>John</td>\n      <td>20</td>\n      <td>student</td>\n    </tr>\n    <tr>\n      <th>1</th>\n      <td>Jenny</td>\n      <td>30</td>\n      <td>developer</td>\n    </tr>\n    <tr>\n      <th>2</th>\n      <td>Nate</td>\n      <td>30</td>\n      <td>teacher</td>\n    </tr>\n    <tr>\n      <th>3</th>\n      <td>Julia</td>\n      <td>40</td>\n      <td>dentist</td>\n    </tr>\n    <tr>\n      <th>4</th>\n      <td>Brian</td>\n      <td>45</td>\n      <td>manager</td>\n    </tr>\n    <tr>\n      <th>5</th>\n      <td>Chris</td>\n      <td>25</td>\n      <td>intern</td>\n    </tr>\n  </tbody>\n</table>\n</div>"
     },
     "metadata": {},
     "execution_count": 12
    }
   ],
   "source": [
    "# data without header\n",
    "df = pd.read_csv('data/friend_list_no_head.csv', header = None)\n",
    "df"
   ]
  },
  {
   "cell_type": "code",
   "execution_count": 14,
   "metadata": {},
   "outputs": [
    {
     "output_type": "execute_result",
     "data": {
      "text/plain": "       0   1          2\n0   John  20    student\n1  Jenny  30  developer\n2   Nate  30    teacher\n3  Julia  40    dentist\n4  Brian  45    manager\n5  Chris  25     intern",
      "text/html": "<div>\n<style scoped>\n    .dataframe tbody tr th:only-of-type {\n        vertical-align: middle;\n    }\n\n    .dataframe tbody tr th {\n        vertical-align: top;\n    }\n\n    .dataframe thead th {\n        text-align: right;\n    }\n</style>\n<table border=\"1\" class=\"dataframe\">\n  <thead>\n    <tr style=\"text-align: right;\">\n      <th></th>\n      <th>0</th>\n      <th>1</th>\n      <th>2</th>\n    </tr>\n  </thead>\n  <tbody>\n    <tr>\n      <th>0</th>\n      <td>John</td>\n      <td>20</td>\n      <td>student</td>\n    </tr>\n    <tr>\n      <th>1</th>\n      <td>Jenny</td>\n      <td>30</td>\n      <td>developer</td>\n    </tr>\n    <tr>\n      <th>2</th>\n      <td>Nate</td>\n      <td>30</td>\n      <td>teacher</td>\n    </tr>\n    <tr>\n      <th>3</th>\n      <td>Julia</td>\n      <td>40</td>\n      <td>dentist</td>\n    </tr>\n    <tr>\n      <th>4</th>\n      <td>Brian</td>\n      <td>45</td>\n      <td>manager</td>\n    </tr>\n    <tr>\n      <th>5</th>\n      <td>Chris</td>\n      <td>25</td>\n      <td>intern</td>\n    </tr>\n  </tbody>\n</table>\n</div>"
     },
     "metadata": {},
     "execution_count": 14
    }
   ],
   "source": [
    "df.colums = ['name', 'age', 'job']\n",
    "df"
   ]
  },
  {
   "cell_type": "code",
   "execution_count": 18,
   "metadata": {},
   "outputs": [
    {
     "output_type": "execute_result",
     "data": {
      "text/plain": "    name  age        job\n0   John   20    student\n1  Jenny   30  developer\n2   Nate   30    teacher\n3  Julia   40    dentist\n4  Brian   45    manager\n5  Chris   25     intern",
      "text/html": "<div>\n<style scoped>\n    .dataframe tbody tr th:only-of-type {\n        vertical-align: middle;\n    }\n\n    .dataframe tbody tr th {\n        vertical-align: top;\n    }\n\n    .dataframe thead th {\n        text-align: right;\n    }\n</style>\n<table border=\"1\" class=\"dataframe\">\n  <thead>\n    <tr style=\"text-align: right;\">\n      <th></th>\n      <th>name</th>\n      <th>age</th>\n      <th>job</th>\n    </tr>\n  </thead>\n  <tbody>\n    <tr>\n      <th>0</th>\n      <td>John</td>\n      <td>20</td>\n      <td>student</td>\n    </tr>\n    <tr>\n      <th>1</th>\n      <td>Jenny</td>\n      <td>30</td>\n      <td>developer</td>\n    </tr>\n    <tr>\n      <th>2</th>\n      <td>Nate</td>\n      <td>30</td>\n      <td>teacher</td>\n    </tr>\n    <tr>\n      <th>3</th>\n      <td>Julia</td>\n      <td>40</td>\n      <td>dentist</td>\n    </tr>\n    <tr>\n      <th>4</th>\n      <td>Brian</td>\n      <td>45</td>\n      <td>manager</td>\n    </tr>\n    <tr>\n      <th>5</th>\n      <td>Chris</td>\n      <td>25</td>\n      <td>intern</td>\n    </tr>\n  </tbody>\n</table>\n</div>"
     },
     "metadata": {},
     "execution_count": 18
    }
   ],
   "source": [
    "# initialize data frame in one line\n",
    "df = pd.read_csv('data/friend_list_no_head.csv', header=None, names=['name', 'age', 'job'])\n",
    "df"
   ]
  },
  {
   "cell_type": "code",
   "execution_count": null,
   "metadata": {},
   "outputs": [],
   "source": []
  }
 ]
}