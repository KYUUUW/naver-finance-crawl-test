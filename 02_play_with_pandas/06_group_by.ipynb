{
 "nbformat": 4,
 "nbformat_minor": 2,
 "metadata": {
  "language_info": {
   "name": "python",
   "codemirror_mode": {
    "name": "ipython",
    "version": 3
   },
   "version": "3.7.3-final"
  },
  "orig_nbformat": 2,
  "file_extension": ".py",
  "mimetype": "text/x-python",
  "name": "python",
  "npconvert_exporter": "python",
  "pygments_lexer": "ipython3",
  "version": 3,
  "kernelspec": {
   "name": "python37364bit538499f307bf4d678623d9753152a238",
   "display_name": "Python 3.7.3 64-bit"
  }
 },
 "cells": [
  {
   "cell_type": "code",
   "execution_count": 1,
   "metadata": {},
   "outputs": [],
   "source": [
    "import pandas as pd"
   ]
  },
  {
   "cell_type": "code",
   "execution_count": 2,
   "metadata": {},
   "outputs": [
    {
     "output_type": "execute_result",
     "data": {
      "text/plain": "        name             major     sex\n0       John  Computer Science    male\n1       Nate  Computer Science    male\n2    Abraham           Physics    male\n3      Brian        Psychology    male\n4      Janny         Economics  female\n5       Yuna         Economics  female\n6   Jeniffer  Computer Science  female\n7     Edward  Computer Science    male\n8       Zara        Psychology  female\n9      Wendy         Economics  female\n10      Sera        Psychology  female",
      "text/html": "<div>\n<style scoped>\n    .dataframe tbody tr th:only-of-type {\n        vertical-align: middle;\n    }\n\n    .dataframe tbody tr th {\n        vertical-align: top;\n    }\n\n    .dataframe thead th {\n        text-align: right;\n    }\n</style>\n<table border=\"1\" class=\"dataframe\">\n  <thead>\n    <tr style=\"text-align: right;\">\n      <th></th>\n      <th>name</th>\n      <th>major</th>\n      <th>sex</th>\n    </tr>\n  </thead>\n  <tbody>\n    <tr>\n      <th>0</th>\n      <td>John</td>\n      <td>Computer Science</td>\n      <td>male</td>\n    </tr>\n    <tr>\n      <th>1</th>\n      <td>Nate</td>\n      <td>Computer Science</td>\n      <td>male</td>\n    </tr>\n    <tr>\n      <th>2</th>\n      <td>Abraham</td>\n      <td>Physics</td>\n      <td>male</td>\n    </tr>\n    <tr>\n      <th>3</th>\n      <td>Brian</td>\n      <td>Psychology</td>\n      <td>male</td>\n    </tr>\n    <tr>\n      <th>4</th>\n      <td>Janny</td>\n      <td>Economics</td>\n      <td>female</td>\n    </tr>\n    <tr>\n      <th>5</th>\n      <td>Yuna</td>\n      <td>Economics</td>\n      <td>female</td>\n    </tr>\n    <tr>\n      <th>6</th>\n      <td>Jeniffer</td>\n      <td>Computer Science</td>\n      <td>female</td>\n    </tr>\n    <tr>\n      <th>7</th>\n      <td>Edward</td>\n      <td>Computer Science</td>\n      <td>male</td>\n    </tr>\n    <tr>\n      <th>8</th>\n      <td>Zara</td>\n      <td>Psychology</td>\n      <td>female</td>\n    </tr>\n    <tr>\n      <th>9</th>\n      <td>Wendy</td>\n      <td>Economics</td>\n      <td>female</td>\n    </tr>\n    <tr>\n      <th>10</th>\n      <td>Sera</td>\n      <td>Psychology</td>\n      <td>female</td>\n    </tr>\n  </tbody>\n</table>\n</div>"
     },
     "metadata": {},
     "execution_count": 2
    }
   ],
   "source": [
    "student_list = [{'name': 'John', 'major': \"Computer Science\", 'sex': \"male\"},\n",
    "                {'name': 'Nate', 'major': \"Computer Science\", 'sex': \"male\"},\n",
    "                {'name': 'Abraham', 'major': \"Physics\", 'sex': \"male\"},\n",
    "                {'name': 'Brian', 'major': \"Psychology\", 'sex': \"male\"},\n",
    "                {'name': 'Janny', 'major': \"Economics\", 'sex': \"female\"},\n",
    "                {'name': 'Yuna', 'major': \"Economics\", 'sex': \"female\"},\n",
    "                {'name': 'Jeniffer', 'major': \"Computer Science\", 'sex': \"female\"},\n",
    "                {'name': 'Edward', 'major': \"Computer Science\", 'sex': \"male\"},\n",
    "                {'name': 'Zara', 'major': \"Psychology\", 'sex': \"female\"},\n",
    "                {'name': 'Wendy', 'major': \"Economics\", 'sex': \"female\"},\n",
    "                {'name': 'Sera', 'major': \"Psychology\", 'sex': \"female\"}\n",
    "         ]\n",
    "df = pd.DataFrame(student_list, columns = ['name', 'major', 'sex'])\n",
    "df"
   ]
  },
  {
   "cell_type": "code",
   "execution_count": 3,
   "metadata": {},
   "outputs": [],
   "source": [
    "groupby_major = df.groupby('major')"
   ]
  },
  {
   "cell_type": "code",
   "execution_count": 5,
   "metadata": {},
   "outputs": [
    {
     "output_type": "execute_result",
     "data": {
      "text/plain": "{'Computer Science': Int64Index([0, 1, 6, 7], dtype='int64'),\n 'Economics': Int64Index([4, 5, 9], dtype='int64'),\n 'Physics': Int64Index([2], dtype='int64'),\n 'Psychology': Int64Index([3, 8, 10], dtype='int64')}"
     },
     "metadata": {},
     "execution_count": 5
    }
   ],
   "source": [
    "groupby_major.groups"
   ]
  },
  {
   "cell_type": "code",
   "execution_count": 8,
   "metadata": {},
   "outputs": [
    {
     "output_type": "stream",
     "name": "stdout",
     "text": "Computer Science : 4\n       name             major     sex\n0      John  Computer Science    male\n1      Nate  Computer Science    male\n6  Jeniffer  Computer Science  female\n7    Edward  Computer Science    male\n\nEconomics : 3\n    name      major     sex\n4  Janny  Economics  female\n5   Yuna  Economics  female\n9  Wendy  Economics  female\n\nPhysics : 1\n      name    major   sex\n2  Abraham  Physics  male\n\nPsychology : 3\n     name       major     sex\n3   Brian  Psychology    male\n8    Zara  Psychology  female\n10   Sera  Psychology  female\n\n"
    }
   ],
   "source": [
    "# 그룹을 보기 좋게\n",
    "for name, group in groupby_major:\n",
    "    print(name + \" : \" + str(len(group)));\n",
    "    print(group)\n",
    "    print()"
   ]
  },
  {
   "cell_type": "code",
   "execution_count": 11,
   "metadata": {},
   "outputs": [
    {
     "output_type": "execute_result",
     "data": {
      "text/plain": "              major  count\n0  Computer Science      4\n1         Economics      3\n2           Physics      1\n3        Psychology      3",
      "text/html": "<div>\n<style scoped>\n    .dataframe tbody tr th:only-of-type {\n        vertical-align: middle;\n    }\n\n    .dataframe tbody tr th {\n        vertical-align: top;\n    }\n\n    .dataframe thead th {\n        text-align: right;\n    }\n</style>\n<table border=\"1\" class=\"dataframe\">\n  <thead>\n    <tr style=\"text-align: right;\">\n      <th></th>\n      <th>major</th>\n      <th>count</th>\n    </tr>\n  </thead>\n  <tbody>\n    <tr>\n      <th>0</th>\n      <td>Computer Science</td>\n      <td>4</td>\n    </tr>\n    <tr>\n      <th>1</th>\n      <td>Economics</td>\n      <td>3</td>\n    </tr>\n    <tr>\n      <th>2</th>\n      <td>Physics</td>\n      <td>1</td>\n    </tr>\n    <tr>\n      <th>3</th>\n      <td>Psychology</td>\n      <td>3</td>\n    </tr>\n  </tbody>\n</table>\n</div>"
     },
     "metadata": {},
     "execution_count": 11
    }
   ],
   "source": [
    "df_major_cnt = pd.DataFrame({'count' : groupby_major.size()}).reset_index()\n",
    "df_major_cnt"
   ]
  },
  {
   "cell_type": "code",
   "execution_count": 12,
   "metadata": {},
   "outputs": [],
   "source": [
    "groupby_sex = df.groupby('sex')"
   ]
  },
  {
   "cell_type": "code",
   "execution_count": 14,
   "metadata": {},
   "outputs": [
    {
     "output_type": "execute_result",
     "data": {
      "text/plain": "{'female': Int64Index([4, 5, 6, 8, 9, 10], dtype='int64'),\n 'male': Int64Index([0, 1, 2, 3, 7], dtype='int64')}"
     },
     "metadata": {},
     "execution_count": 14
    }
   ],
   "source": [
    "groupby_sex.groups"
   ]
  },
  {
   "cell_type": "code",
   "execution_count": null,
   "metadata": {},
   "outputs": [],
   "source": []
  }
 ]
}